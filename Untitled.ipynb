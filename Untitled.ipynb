{
 "cells": [
  {
   "cell_type": "code",
   "execution_count": 67,
   "metadata": {
    "collapsed": false
   },
   "outputs": [],
   "source": [
    "import numpy as np\n",
    "import numpy.linalg as al\n",
    "from cvxpy import *"
   ]
  },
  {
   "cell_type": "code",
   "execution_count": 73,
   "metadata": {
    "collapsed": true
   },
   "outputs": [],
   "source": [
    "def Mmatrix(data, nu, m1, dim1, m2, dim2, m3, dim3, m4, dim4):\n",
    "    # data is the sufficient statistic data\n",
    "    num_sam,d_num = np.shape(data)\n",
    "    # number of sample is 990\n",
    "    # number of d is 64\n",
    "#     print(num_sam)\n",
    "    \n",
    "    #m1: number of Bernoulli sample  = 8\n",
    "    #dim1: T(x) dimension of Bernoulli sample = 1\n",
    "    \n",
    "    #m2: number of Gaussian sample = 8\n",
    "    #dim2: T(x) dimension of Gaussian sample = 1\n",
    "        \n",
    "    #m3: number of Gamma sample = 8\n",
    "    #dim3: T(x) dimension of Gamma sample = 2\n",
    "    \n",
    "    #m4: number of Dirichlet sample  = 8 \n",
    "     #dim4: T(x) dimension of Dirichlet sample = 3\n",
    "\n",
    "    endpoint1 = m1 * dim1 # 8\n",
    "    \n",
    "    ber_data = data[:,0:endpoint1] # index 0 to 7 are Bernoulli\n",
    "    #print(ber_data.shape)\n",
    "    \n",
    "    endpoint2 = endpoint1 + m2 * 2 * dim2 # 8 + 16 = 24\n",
    "\n",
    "    # for gaussian case, we only need x part in [x x^2]\n",
    "    gauss_data = np.zeros(np.shape(ber_data))\n",
    "    k=0;\n",
    "    for i in range(endpoint1, endpoint2, 2): # i in range(8,24,2)\n",
    "        gauss_data[:,k] = data[:,i]\n",
    "        k=k+1\n",
    "    \n",
    "    #print(gauss_data.shape)\n",
    "    endpoint3 = endpoint2 + m3 * dim3 # 24 + 8*2 = 40\n",
    "\n",
    "    gamma_data = data[:,endpoint2:endpoint3] # index 24 to 40 are Gamma\n",
    "    #print(gamma_data.shape)\n",
    "    endpoint4 = endpoint3 + 2*m4 * dim4 # 40 + 8*3 = 64\n",
    "    \n",
    "    # the rest of them are dirichlet distribution\n",
    "    dirich_data = data[:,endpoint3:endpoint4]\n",
    "    #print(dirich_data.shape)\n",
    "    \n",
    "    vec = np.ones([990,1])\n",
    "    # construct new data\n",
    "    new_data = np.concatenate((vec, ber_data, gauss_data, gamma_data, dirich_data), axis=1)\n",
    "    #print(new_data.shape)\n",
    "    \n",
    "    M = np.transpose(np.matrix(new_data))*np.matrix(new_data)/num_sam\n",
    "    \n",
    "    return M\n",
    "def Dmatrix(m1, dim1, m2, dim2, m3, dim3, m4, dim4):\n",
    "    #m1: number of Bernoulli sample  = 8\n",
    "    #dim1: T(x) dimension of Bernoulli sample = 1\n",
    "    \n",
    "    #m2: number of Gaussian sample = 8\n",
    "    #dim2: T(x) dimension of Gaussian sample = 1\n",
    "        \n",
    "    #m3: number of Gamma sample = 8\n",
    "    #dim3: T(x) dimension of Gamma sample = 2\n",
    "    \n",
    "    #m4: number of Dirichlet sample  = 8 \n",
    "     #dim4: T(x) dimension of Dirichlet sample = 3\n",
    "    \n",
    "    # only Bernoulli has value. The rest are continuous random variable\n",
    "    l0 = 0\n",
    "    l1 = np.ones(dim1*m1)\n",
    "    l2 = np.zeros(dim2*m2)\n",
    "    l3 = np.zeros(dim3*m3)\n",
    "    l4 = np.zeros(dim4*m4)\n",
    "    \n",
    "    #l1 = np.diag(temp);\n",
    "    temp = np.hstack((l0,l1,l2,l3,l4)) # makes an array in the form of [ l0 l1 l2 l3 l4 ] \n",
    "    D = np.diag(temp)\n",
    "    return D"
   ]
  },
  {
   "cell_type": "code",
   "execution_count": 106,
   "metadata": {
    "collapsed": false,
    "scrolled": true
   },
   "outputs": [
    {
     "name": "stdout",
     "output_type": "stream",
     "text": [
      "test for\n",
      "sufficient_statistics_1.csv\n",
      "()\n",
      "modifiedEdge_1.csv\n",
      "()\n"
     ]
    }
   ],
   "source": [
    "k = [1]\n",
    "i = 0\n",
    "file_name = 'sufficient_statistics_'+str(k[i])+'.csv'\n",
    "file_name2 = 'modifiedEdge_'+str(k[i])+'.csv'\n",
    "\n",
    "print('test for')\n",
    "print(file_name)\n",
    "print()\n",
    "print(file_name2)\n",
    "print()\n",
    "\n",
    "\n",
    "# number of Bernoulli sample, Bernoulli T(x) dimension\n",
    "# number of Gamma sample, Gamma T(x) dimension\n",
    "# number of Gaussian sample, Gaussian T(x) dimension\n",
    "# number of Dirichlet sample, Dirichlet T(x) dimension\n",
    "# respectively\n",
    "\n",
    "m_r = [1, 1, 2, 3] # the dimension of node potential for 4 type of nodes\n",
    "n_t = [8, 8, 8, 8] # the number of nodes for each type\n",
    "numOfType = len(m_r)\n",
    "if len(m_r) == len(n_t):\n",
    "    d = np.sum(np.multiply(m_r, n_t)) # the dimension of augmented edge paramter matrix\n",
    "else:\n",
    "    print('m_r and n_t should have the same length')\n",
    "# n_r[0], m_t[0], n_t[1], m_r[1], n_r[2], m_t[2], n_r[3], m_t[3]\n",
    "data = np.genfromtxt(file_name, delimiter=\",\")\n",
    "M = Mmatrix(data, 1, 8, 1, 8, 1, 8, 2, 8, 3)\n",
    "D = Dmatrix(8, 1, 8, 1, 8, 2, 8, 3) \n",
    "A = M+D\n",
    "A = np.matrix(A) #+ np.identity(57)\n",
    "A = (A + np.transpose(A))/2\n",
    "\n",
    "# # Generate A for a test\n",
    "# #A = np.random.randn(57,57)\n",
    "\n",
    "# A = (A + np.transpose(A))/2\n",
    "\n",
    "# Lamvec, Vec = la.eig(A)\n",
    "# min_lamb = min(Lamvec)\n",
    "# A = A + np.identity(d+1)*(-1*(min_lamb) + 1)    \n",
    "# Lamvec,Vec = la.eig(A)\n",
    "# min_lamb = min(Lamvec)\n",
    "# if min_lamb> 0:\n",
    "#     print('PSD! with min_lamb',min_lamb)\n",
    "# else:\n",
    "#     print('Negatve Definite with min_lamb', min_lamb)\n",
    "# print (A)\n",
    "    \n",
    "# #np.savetxt('A.csv', A, delimiter=',')\n",
    "\n",
    "# ### initialize Theta ###\n",
    "# theta = np.ones([57, 57])*0.1  # theta is a 57 x 57 matrix with each entries with 0.1\n",
    "\n",
    "# #print(theta)\n",
    "\n",
    "# Z = np.ones([57,57])*0.2 #57x57 identity matrix ------- when I made this matrix to 0 matrix, in theta update, it calculates (Z - U) as (0 mat - 0 mat) gives error\n",
    "# U = np.ones([57, 57])*0.1 #0 matirx\n",
    "# K = 600 # maximum number of ADMM iteration"
   ]
  },
  {
   "cell_type": "code",
   "execution_count": 122,
   "metadata": {
    "collapsed": false
   },
   "outputs": [
    {
     "name": "stdout",
     "output_type": "stream",
     "text": [
      "A =  [[ 1.    0.39  0.71  0.46  0.34  0.4   0.31  0.59  0.69  0.45  0.54  0.52\n",
      "   0.53  0.49  0.51  0.61  0.49]\n",
      " [ 0.39  1.39  0.26  0.19  0.14  0.15  0.11  0.22  0.27  0.17  0.2   0.22\n",
      "   0.2   0.19  0.2   0.22  0.19]\n",
      " [ 0.71  0.26  1.71  0.33  0.25  0.28  0.22  0.42  0.49  0.32  0.39  0.37\n",
      "   0.39  0.34  0.37  0.44  0.36]\n",
      " [ 0.46  0.19  0.33  1.46  0.16  0.2   0.13  0.26  0.33  0.21  0.27  0.25\n",
      "   0.27  0.24  0.25  0.3   0.24]\n",
      " [ 0.34  0.14  0.25  0.16  1.34  0.15  0.12  0.22  0.25  0.17  0.2   0.21\n",
      "   0.2   0.2   0.2   0.24  0.2 ]\n",
      " [ 0.4   0.15  0.28  0.2   0.15  1.42  0.14  0.26  0.3   0.2   0.25  0.24\n",
      "   0.25  0.22  0.25  0.28  0.24]\n",
      " [ 0.31  0.11  0.22  0.13  0.12  0.14  1.33  0.22  0.24  0.18  0.21  0.2\n",
      "   0.2   0.21  0.23  0.26  0.22]\n",
      " [ 0.59  0.22  0.42  0.26  0.22  0.26  0.22  1.62  0.45  0.31  0.38  0.36\n",
      "   0.37  0.36  0.37  0.45  0.37]\n",
      " [ 0.69  0.27  0.49  0.33  0.25  0.3   0.24  0.45  1.73  0.38  0.42  0.42\n",
      "   0.43  0.42  0.43  0.51  0.43]\n",
      " [ 0.45  0.17  0.32  0.21  0.17  0.2   0.18  0.31  0.38  0.53  0.3   0.3\n",
      "   0.33  0.31  0.33  0.36  0.33]\n",
      " [ 0.54  0.2   0.39  0.27  0.2   0.25  0.21  0.38  0.42  0.3   0.64  0.36\n",
      "   0.38  0.37  0.38  0.46  0.41]\n",
      " [ 0.52  0.22  0.37  0.25  0.21  0.24  0.2   0.36  0.42  0.3   0.36  0.63\n",
      "   0.38  0.36  0.39  0.44  0.4 ]\n",
      " [ 0.53  0.2   0.39  0.27  0.2   0.25  0.2   0.37  0.43  0.33  0.38  0.38\n",
      "   0.64  0.39  0.39  0.47  0.42]\n",
      " [ 0.49  0.19  0.34  0.24  0.2   0.22  0.21  0.36  0.42  0.31  0.37  0.36\n",
      "   0.39  0.6   0.4   0.46  0.43]\n",
      " [ 0.51  0.2   0.37  0.25  0.2   0.25  0.23  0.37  0.43  0.33  0.38  0.39\n",
      "   0.39  0.4   0.65  0.49  0.43]\n",
      " [ 0.61  0.22  0.44  0.3   0.24  0.28  0.26  0.45  0.51  0.36  0.46  0.44\n",
      "   0.47  0.46  0.49  0.86  0.49]\n",
      " [ 0.49  0.19  0.36  0.24  0.2   0.24  0.22  0.37  0.43  0.33  0.41  0.4\n",
      "   0.42  0.43  0.43  0.49  0.69]]\n",
      "inv(A) =  [[ 4.03 -0.33 -0.59 -0.31 -0.19 -0.23 -0.11 -0.31 -0.37 -0.68 -0.83 -0.7\n",
      "  -0.57 -0.29 -0.19 -0.34  0.33]\n",
      " [-0.33  0.81  0.01 -0.01 -0.01  0.    0.    0.01  0.    0.01  0.01 -0.04\n",
      "   0.02 -0.02 -0.    0.04 -0.01]\n",
      " [-0.59  0.01  0.83 -0.   -0.01  0.   -0.   -0.    0.    0.02 -0.01  0.03\n",
      "  -0.03  0.04 -0.01 -0.01 -0.02]\n",
      " [-0.31 -0.01 -0.    0.8  -0.   -0.01  0.01  0.01 -0.    0.01 -0.02 -0.01\n",
      "  -0.04 -0.01 -0.02 -0.02  0.01]\n",
      " [-0.19 -0.01 -0.01 -0.    0.82 -0.   -0.   -0.   -0.   -0.02 -0.   -0.03\n",
      "   0.01 -0.03 -0.03 -0.02 -0.02]\n",
      " [-0.23  0.    0.   -0.01 -0.    0.8  -0.01 -0.   -0.01  0.01 -0.04 -0.03\n",
      "  -0.03  0.02 -0.05 -0.01 -0.03]\n",
      " [-0.11  0.   -0.    0.01 -0.   -0.01  0.83 -0.01 -0.   -0.03 -0.01 -0.01\n",
      "   0.01 -0.04 -0.06 -0.06 -0.05]\n",
      " [-0.31  0.01 -0.    0.01 -0.   -0.   -0.01  0.8  -0.   -0.04 -0.04 -0.02\n",
      "  -0.02 -0.06 -0.02 -0.07 -0.05]\n",
      " [-0.37  0.    0.   -0.   -0.   -0.01 -0.   -0.    0.82 -0.1  -0.02 -0.04\n",
      "  -0.02 -0.06 -0.05 -0.05 -0.04]\n",
      " [-0.68  0.01  0.02  0.01 -0.02  0.01 -0.03 -0.04 -0.1   3.61 -0.07 -0.08\n",
      "  -0.43 -0.27 -0.39 -0.05 -0.4 ]\n",
      " [-0.83  0.01 -0.01 -0.02 -0.   -0.04 -0.01 -0.04 -0.02 -0.07  3.51 -0.11\n",
      "  -0.2  -0.36 -0.2  -0.35 -0.63]\n",
      " [-0.7  -0.04  0.03 -0.01 -0.03 -0.03 -0.01 -0.02 -0.04 -0.08 -0.11  3.45\n",
      "  -0.34 -0.26 -0.41 -0.27 -0.52]\n",
      " [-0.57  0.02 -0.03 -0.04  0.01 -0.03  0.01 -0.02 -0.02 -0.43 -0.2  -0.34\n",
      "   3.75 -0.51 -0.16 -0.47 -0.53]\n",
      " [-0.29 -0.02  0.04 -0.01 -0.03  0.02 -0.04 -0.06 -0.06 -0.27 -0.36 -0.26\n",
      "  -0.51  4.11 -0.6  -0.4  -0.8 ]\n",
      " [-0.19 -0.   -0.01 -0.02 -0.03 -0.05 -0.06 -0.02 -0.05 -0.39 -0.2  -0.41\n",
      "  -0.16 -0.6   3.69 -0.66 -0.59]\n",
      " [-0.34  0.04 -0.01 -0.02 -0.02 -0.01 -0.06 -0.07 -0.05 -0.05 -0.35 -0.27\n",
      "  -0.47 -0.4  -0.66  2.93 -0.4 ]\n",
      " [ 0.33 -0.01 -0.02  0.01 -0.02 -0.03 -0.05 -0.05 -0.04 -0.4  -0.63 -0.52\n",
      "  -0.53 -0.8  -0.59 -0.4   3.63]]\n",
      "status: optimal\n",
      "optimal value 9.35965128344\n",
      "9.35965128344 [[ 3.82 -0.31 -0.56 -0.29 -0.18 -0.22 -0.11 -0.29 -0.35 -0.62 -0.76 -0.65\n",
      "  -0.53 -0.27 -0.18 -0.33  0.28]\n",
      " [-0.31  0.81  0.01 -0.01 -0.01  0.    0.    0.    0.    0.    0.01 -0.04\n",
      "   0.01 -0.02 -0.    0.04 -0.  ]\n",
      " [-0.56  0.01  0.83 -0.   -0.01  0.   -0.   -0.   -0.    0.01 -0.02  0.02\n",
      "  -0.04  0.04 -0.02 -0.02 -0.01]\n",
      " [-0.29 -0.01 -0.    0.8  -0.   -0.01  0.01  0.01 -0.01  0.01 -0.03 -0.01\n",
      "  -0.05 -0.01 -0.02 -0.02  0.01]\n",
      " [-0.18 -0.01 -0.01 -0.    0.82 -0.   -0.   -0.   -0.   -0.03 -0.01 -0.03\n",
      "   0.01 -0.03 -0.03 -0.02 -0.01]\n",
      " [-0.22  0.    0.   -0.01 -0.    0.81 -0.01 -0.   -0.01  0.01 -0.04 -0.04\n",
      "  -0.03  0.02 -0.05 -0.01 -0.02]\n",
      " [-0.11  0.   -0.    0.01 -0.   -0.01  0.83 -0.01 -0.   -0.03 -0.01 -0.02\n",
      "   0.01 -0.04 -0.06 -0.06 -0.05]\n",
      " [-0.29  0.   -0.    0.01 -0.   -0.   -0.01  0.81 -0.   -0.04 -0.05 -0.02\n",
      "  -0.02 -0.06 -0.02 -0.07 -0.04]\n",
      " [-0.35  0.   -0.   -0.01 -0.   -0.01 -0.   -0.    0.82 -0.1  -0.02 -0.05\n",
      "  -0.02 -0.06 -0.05 -0.06 -0.03]\n",
      " [-0.62  0.    0.01  0.01 -0.03  0.01 -0.03 -0.04 -0.1   3.59 -0.09 -0.09\n",
      "  -0.43 -0.27 -0.39 -0.05 -0.39]\n",
      " [-0.76  0.01 -0.02 -0.03 -0.01 -0.04 -0.01 -0.05 -0.02 -0.09  3.5  -0.13\n",
      "  -0.22 -0.36 -0.2  -0.35 -0.62]\n",
      " [-0.65 -0.04  0.02 -0.01 -0.03 -0.04 -0.02 -0.02 -0.05 -0.09 -0.13  3.45\n",
      "  -0.35 -0.27 -0.41 -0.27 -0.51]\n",
      " [-0.53  0.01 -0.04 -0.05  0.01 -0.03  0.01 -0.02 -0.02 -0.43 -0.22 -0.35\n",
      "   3.73 -0.5  -0.17 -0.47 -0.52]\n",
      " [-0.27 -0.02  0.04 -0.01 -0.03  0.02 -0.04 -0.06 -0.06 -0.27 -0.36 -0.27\n",
      "  -0.5   4.   -0.57 -0.38 -0.76]\n",
      " [-0.18 -0.   -0.02 -0.02 -0.03 -0.05 -0.06 -0.02 -0.05 -0.39 -0.2  -0.41\n",
      "  -0.17 -0.57  3.67 -0.66 -0.6 ]\n",
      " [-0.33  0.04 -0.02 -0.02 -0.02 -0.01 -0.06 -0.07 -0.06 -0.05 -0.35 -0.27\n",
      "  -0.47 -0.38 -0.66  2.96 -0.43]\n",
      " [ 0.28 -0.   -0.01  0.01 -0.01 -0.02 -0.05 -0.04 -0.03 -0.39 -0.62 -0.51\n",
      "  -0.52 -0.76 -0.6  -0.43  3.65]]\n",
      "status: optimal\n",
      "optimal value 58.1072399293\n",
      "58.1072399293 [[ 0.09  0.    0.    0.    0.    0.    0.    0.    0.    0.    0.    0.    0.\n",
      "   0.    0.    0.    0.  ]\n",
      " [ 0.    0.09  0.    0.    0.    0.    0.    0.    0.    0.    0.    0.    0.\n",
      "   0.    0.    0.    0.  ]\n",
      " [ 0.    0.    0.09  0.    0.    0.    0.    0.    0.    0.    0.    0.    0.\n",
      "   0.    0.    0.    0.  ]\n",
      " [ 0.    0.    0.    0.09  0.    0.    0.    0.    0.    0.    0.    0.    0.\n",
      "   0.    0.    0.    0.  ]\n",
      " [ 0.    0.    0.    0.    0.09  0.    0.    0.    0.    0.    0.    0.    0.\n",
      "   0.    0.    0.    0.  ]\n",
      " [ 0.    0.    0.    0.    0.    0.09  0.    0.    0.    0.    0.    0.    0.\n",
      "   0.    0.    0.    0.  ]\n",
      " [ 0.    0.    0.    0.    0.    0.    0.09  0.    0.    0.    0.    0.    0.\n",
      "   0.    0.    0.    0.  ]\n",
      " [ 0.    0.    0.    0.    0.    0.    0.    0.09  0.    0.    0.    0.    0.\n",
      "   0.    0.    0.    0.  ]\n",
      " [ 0.    0.    0.    0.    0.    0.    0.    0.    0.09  0.    0.    0.    0.\n",
      "   0.    0.    0.    0.  ]\n",
      " [ 0.    0.    0.    0.    0.    0.    0.    0.    0.    0.1   0.    0.    0.\n",
      "   0.    0.    0.    0.  ]\n",
      " [ 0.    0.    0.    0.    0.    0.    0.    0.    0.    0.    0.1   0.    0.\n",
      "   0.    0.    0.    0.  ]\n",
      " [ 0.    0.    0.    0.    0.    0.    0.    0.    0.    0.    0.    0.1\n",
      "   0.    0.    0.    0.    0.  ]\n",
      " [ 0.    0.    0.    0.    0.    0.    0.    0.    0.    0.    0.    0.\n",
      "   0.1   0.    0.    0.    0.  ]\n",
      " [ 0.    0.    0.    0.    0.    0.    0.    0.    0.    0.    0.    0.    0.\n",
      "   0.1   0.    0.    0.  ]\n",
      " [ 0.    0.    0.    0.    0.    0.    0.    0.    0.    0.    0.    0.    0.\n",
      "   0.    0.1   0.    0.  ]\n",
      " [ 0.    0.    0.    0.    0.    0.    0.    0.    0.    0.    0.    0.    0.\n",
      "   0.    0.    0.09  0.  ]\n",
      " [ 0.    0.    0.    0.    0.    0.    0.    0.    0.    0.    0.    0.    0.\n",
      "   0.    0.    0.    0.1 ]]\n"
     ]
    }
   ],
   "source": [
    "# Creates a 100 by 100 positive semidefinite variable.\n",
    "np.set_printoptions(suppress=True, precision = 2)\n",
    "\n",
    "d = 16\n",
    "n = d+1\n",
    "\n",
    "AA = A[:n, :n]\n",
    "\n",
    "X = Semidef(n)\n",
    "\n",
    "# # Simple A\n",
    "# A = np.random.randn(n,n)\n",
    "# A = A + A.T\n",
    "# lamb,Q = al.eig(A)\n",
    "# A = A + np.identity(n) * (- min(min(lamb),0) + 0.001)\n",
    "\n",
    "lamb,Q = al.eig(A)\n",
    "\n",
    "\n",
    "Q = np.matrix(Q)\n",
    "print 'A = ', AA\n",
    "# print 'lamb = ',np.sort(lamb), '\\n Q = ', Q\n",
    "\n",
    "# print 'Q.T*Q = ', Q.T*Q\n",
    "\n",
    "# print 'Q*Q.T = ', Q*Q.T\n",
    "# print 'A = QlambQ.T = ', Q*np.diag(lamb)*Q.T\n",
    "print 'inv(A) = ', al.inv(AA)\n",
    "# # You can use X anywhere you would use\n",
    "# # a normal CVXPY variable.\n",
    "\n",
    "alpha = 0\n",
    "obj =  Minimize(- log_det(X) + trace(X*AA) +  alpha* norm(X,1) )# Minimize(norm(A*X) + sum_entries(A*X)) #\n",
    "constr = []\n",
    "\n",
    "prob = Problem(obj, constr)\n",
    "prob.solve()\n",
    "print \"status:\", prob.status\n",
    "print \"optimal value\", prob.value\n",
    "\n",
    "print prob.value,X.value\n",
    "\n",
    "alpha = 10\n",
    "obj =  Minimize(- log_det(X) + trace(X*AA) + alpha* norm(X,1))# Minimize(norm(A*X) + sum_entries(A*X)) #\n",
    "constr = []\n",
    "\n",
    "prob = Problem(obj, constr)\n",
    "prob.solve()\n",
    "print \"status:\", prob.status\n",
    "print \"optimal value\", prob.value\n",
    "\n",
    "print prob.value,X.value"
   ]
  },
  {
   "cell_type": "code",
   "execution_count": 101,
   "metadata": {
    "collapsed": false,
    "scrolled": true
   },
   "outputs": [
    {
     "name": "stdout",
     "output_type": "stream",
     "text": [
      "[ 1  4  9 16]\n",
      "[ 13.  16.  21.  28.]\n",
      "[[ 4.606  0.     0.     0.   ]\n",
      " [ 0.     6.     0.     0.   ]\n",
      " [ 0.     0.     7.583  0.   ]\n",
      " [ 0.     0.     0.     9.292]]\n"
     ]
    }
   ],
   "source": [
    "lambvec = [1 ,2, 3, 4 ]\n",
    "eta1 = 3\n",
    "# lambvec= np.matrix(lambvec)\n",
    "print np.power(lambvec,2)\n",
    "print np.power(lambvec,2) + 4*eta1 * np.ones(len(lambvec))\n",
    "print np.diag(lambvec + np.sqrt( np.power(lambvec,2) + 4*eta1 * np.ones(len(lambvec)) )  )"
   ]
  },
  {
   "cell_type": "code",
   "execution_count": 87,
   "metadata": {
    "collapsed": false
   },
   "outputs": [
    {
     "name": "stdout",
     "output_type": "stream",
     "text": [
      "[ 1.  1.  1.]\n"
     ]
    }
   ],
   "source": [
    "print np.ones(3)"
   ]
  },
  {
   "cell_type": "code",
   "execution_count": null,
   "metadata": {
    "collapsed": true
   },
   "outputs": [],
   "source": [
    "m1 = 8\n",
    "m2 = 8\n",
    "m3 = 8\n",
    "m4 = 8\n",
    "\n",
    "dim1 = 1\n",
    "dim2 = 1\n",
    "dim3 = 2\n",
    "dim4 = 3\n",
    "\n",
    "m = np.array([1, m1, m2, m3, m4])\n",
    "dim = np.array([1, dim1, dim2, dim3, dim4])\n",
    "dist_num = np.sum(m)\n",
    "\n",
    "Mvec = np.zeros([33,1])\n",
    "for i in range(0,dist_num):\n",
    "    if i < 17:\n",
    "        Mvec[i] = 1\n",
    "    elif i < 25:\n",
    "        Mvec[i] = 2\n",
    "    else:\n",
    "        Mvec[i] = 3"
   ]
  },
  {
   "cell_type": "code",
   "execution_count": 124,
   "metadata": {
    "collapsed": false
   },
   "outputs": [
    {
     "name": "stdout",
     "output_type": "stream",
     "text": [
      "[[0 1]]\n"
     ]
    }
   ],
   "source": [
    "print 0 + np.matrix([0,1])\n"
   ]
  },
  {
   "cell_type": "code",
   "execution_count": 35,
   "metadata": {
    "collapsed": false
   },
   "outputs": [
    {
     "data": {
      "image/png": "[encoded data removed]",
      "text/plain": [
       "<matplotlib.figure.Figure at 0x10e676bd0>"
      ]
     },
     "metadata": {},
     "output_type": "display_data"
    }
   ],
   "source": [
    "\n",
    "\n",
    "import matplotlib as mpl\n",
    "#mpl.use('Agg')\n",
    "import matplotlib.pyplot as pl\n",
    "import numpy as np\n",
    "mpl.rcParams['ps.useafm'] = True\n",
    "mpl.rcParams['pdf.use14corefonts'] = True\n",
    "mpl.rcParams['text.usetex'] = True\n",
    "\n",
    "TPR_H1 =  [1, 0.955,  0.955,  0.955,  0.955,  0.955,  0.955,  0.952 , 0.948,  0.952 , 0.925,  0.889,  0.818 , 0.745,  0.704 , 0.702 , 0.702,  0.636 , 0.563,  0.563 , 0.563, 0]\n",
    "\n",
    "FPR_H1 =  [1 ,0.916,  0.915,  0.915 , 0.914 , 0.913 , 0.909,  0.906 , 0.906,  0.9   , 0.872,  0.798,  0.674 , 0.553,  0.51  , 0.504,  0.494,  0.371,  0.248,  0.248,  0.248 ,0]\n",
    "\n",
    "\n",
    "TPR_H =  [1, 0.955 , 0.955 , 0.955 , 0.955 , 0.955  ,0.955 , 0.952  ,0.948,  0.952 , 0.925,  0.889 , 0.818,  0.745,  0.704 , 0.702 , 0.702,  0.636 , 0.563 , 0.563 , 0.563, 0]\n",
    "\n",
    "FPR_H =  [1 ,0.916 , 0.915,  0.915 , 0.914 , 0.913 , 0.909 , 0.906 , 0.906 , 0.9   , 0.872,  0.798 , 0.674 , 0.553 , 0.51 ,  0.504  ,0.494 , 0.371  ,0.248  ,0.248 , 0.248 ,0]\n",
    "\n",
    "\n",
    "TPR_L =  [1 ,0.926  ,0.926,  0.926 , 0.925 , 0.924 , 0.919  ,0.918 , 0.914  ,0.908 , 0.885,  0.821 , 0.71,   0.607 , 0.572 , 0.568 , 0.573 , 0.451 , 0.328 , 0.328,  0.328, 0]\n",
    "\n",
    "FPR_L =  [1 ,0.909  ,0.909,  0.908,  0.908  ,0.907 , 0.903 , 0.901 , 0.899  ,0.896  ,0.87  , 0.79, 0.669 , 0.544 , 0.514  ,0.511  ,0.503  ,0.371  ,0.244  ,0.244  ,0.244 ,0]\n",
    "  \n",
    "\n",
    "FPR_H_W = [0 , 0.01, 0.1, 0.41, 0.58, 0.66, 0.71, 0.8, 0.95, 1]\n",
    "TPR_H_W = [0, 0.21, 0.42, 0.7, 0.81, 0.86, 0.89, 0.93, 0.98, 1]\n",
    "\n",
    "FPR_L_W = [0, 0.07, 0.41, 0.58, 0.68 ,0.73 , 0.8 , 0.9, 1]\n",
    "TPR_L_W= [0, 0.1,  0.46, 0.63, 0.71, 0.76, 0.82, 0.9, 1]\n",
    "\n",
    "\n",
    "TPRData = np.genfromtxt('TPR.csv', delimiter=\",\")\n",
    "FPRData = np.genfromtxt('FPR.csv', delimiter=\",\")\n",
    "\n",
    "pl.figure(figsize=(4,7))\n",
    "pl.subplot(2, 1, 1)\n",
    "pl.plot(FPR_H,TPR_H,'ro-', label = 'PE-MRF')\n",
    "pl.plot(FPR_H_W,TPR_H_W,'gs-', label = 'VS-MRF')\n",
    "pl.plot(FPRData, TPRData, 'o-')\n",
    "pl.plot([0,1],[0,1],'--')\n",
    "# pl.xlabel('FPR')\n",
    "pl.ylabel('TPR')\n",
    "pl.title('High Sparsity Structure')\n",
    "pl.legend(loc = 'lower right')\n",
    "# pl.show()\n",
    "# pl.rcParams.update({'font.size': 12})\n",
    "# pl.savefig('highSparse.png', bbox_inches = 'tight', dpi = 1000)\n",
    "\n",
    "\n",
    "# pl.subplot(2, 1, 2)\n",
    "# pl.plot(FPR_L,TPR_L,'ro-', label = 'PE-MRF')\n",
    "# pl.plot(FPR_L_W,TPR_L_W,'gs-', label = 'VS-MRF')\n",
    "# pl.plot([0,1],[0,1],'--')\n",
    "# pl.xlabel('FPR')\n",
    "# pl.ylabel('TPR')\n",
    "# pl.title('Low Sparsity Structure')\n",
    "\n",
    "\n",
    "\n",
    "# #pl.plot(FPR_H,TPR_H,'bo-')\n",
    "# #pl.plot(FPR_H1,TPR_H1,'ro-')\n",
    "# #pl.plot(FPR_H_W,TPR_H_W,'ws-')\n",
    "# pl.legend(loc = 'lower right')\n",
    "# # pl.savefig('lowSparse.png',  bbox_inches = 'tight', dpi = 1000)\n",
    "    \n",
    "# pl.savefig('error_plots.eps', format = 'eps', bbox_inches = 'tight', dpi = 1000)\n",
    "pl.show()"
   ]
  },
  {
   "cell_type": "code",
   "execution_count": 37,
   "metadata": {
    "collapsed": false,
    "scrolled": true
   },
   "outputs": [
    {
     "data": {
      "image/png": "[encoded data removed]",
      "text/plain": [
       "<matplotlib.figure.Figure at 0x10e1fc050>"
      ]
     },
     "metadata": {},
     "output_type": "display_data"
    },
    {
     "name": "stdout",
     "output_type": "stream",
     "text": [
      "[ 0.97560976  0.97560976  0.97560976  0.97560976  0.97560976  0.97560976\n",
      "  0.92682927  0.87804878  0.70731707  0.46341463] \n",
      "[ 0.9044586   0.9044586   0.89171975  0.87473461  0.83864119  0.76433121\n",
      "  0.59023355  0.33545648  0.14437367  0.03609342]\n"
     ]
    }
   ],
   "source": [
    "TPRData = np.genfromtxt('TPR.csv', delimiter=\",\")\n",
    "FPRData = np.genfromtxt('FPR.csv', delimiter=\",\")\n",
    "\n",
    "pl.figure(figsize=(4,7))\n",
    "pl.subplot(2, 1, 1)\n",
    "pl.plot(FPR_H,TPR_H,'ro-', label = 'PE-MRF')\n",
    "pl.plot(FPR_H_W,TPR_H_W,'gs-', label = 'VS-MRF')\n",
    "pl.plot(FPRData, TPRData, 'o-')\n",
    "pl.plot([0,1],[0,1],'--')\n",
    "pl.show()\n",
    "print TPRData, '\\n', FPRData\n"
   ]
  },
  {
   "cell_type": "code",
   "execution_count": 18,
   "metadata": {
    "collapsed": false
   },
   "outputs": [
    {
     "data": {
      "image/png": "[encoded data removed]",
      "text/plain": [
       "<matplotlib.figure.Figure at 0x10eef2550>"
      ]
     },
     "metadata": {},
     "output_type": "display_data"
    },
    {
     "name": "stdout",
     "output_type": "stream",
     "text": [
      "[ 0.98507463  0.98134328  0.95522388  0.94402985  0.74626866] \n",
      "[ 0.98015873  0.97751323  0.9484127   0.91931217  0.71428571]\n"
     ]
    }
   ],
   "source": [
    "TPRData = np.genfromtxt('TPR.csv', delimiter=\",\")\n",
    "FPRData = np.genfromtxt('FPR.csv', delimiter=\",\")\n",
    "pl.plot(FPRData, TPRData, 'o-')\n",
    "\n",
    "pl.plot([0,1],[0,1],'--')\n",
    "pl.show()\n",
    "print TPRData, '\\n', FPRData\n",
    "\n"
   ]
  },
  {
   "cell_type": "code",
   "execution_count": 23,
   "metadata": {
    "collapsed": false
   },
   "outputs": [
    {
     "name": "stdout",
     "output_type": "stream",
     "text": [
      "0\n"
     ]
    }
   ],
   "source": [
    "print 10%2"
   ]
  },
  {
   "cell_type": "code",
   "execution_count": 24,
   "metadata": {
    "collapsed": false
   },
   "outputs": [
    {
     "name": "stdout",
     "output_type": "stream",
     "text": [
      "[[ 2.  2.  2.]\n",
      " [ 2.  2.  2.]\n",
      " [ 2.  2.  2.]] [[ 4.  4.  4.]\n",
      " [ 4.  4.  4.]\n",
      " [ 4.  4.  4.]]\n"
     ]
    }
   ],
   "source": [
    "a = np.ones([3,3])*2\n",
    "aa = np.power(a,2)\n",
    "print a, aa"
   ]
  },
  {
   "cell_type": "code",
   "execution_count": null,
   "metadata": {
    "collapsed": true
   },
   "outputs": [],
   "source": []
  }
 ],
 "metadata": {
  "anaconda-cloud": {},
  "kernelspec": {
   "display_name": "Python [conda root]",
   "language": "python",
   "name": "conda-root-py"
  },
  "language_info": {
   "codemirror_mode": {
    "name": "ipython",
    "version": 2
   },
   "file_extension": ".py",
   "mimetype": "text/x-python",
   "name": "python",
   "nbconvert_exporter": "python",
   "pygments_lexer": "ipython2",
   "version": "2.7.12"
  }
 },
 "nbformat": 4,
 "nbformat_minor": 1
}
