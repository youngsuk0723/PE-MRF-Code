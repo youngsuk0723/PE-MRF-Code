{
 "cells": [
  {
   "cell_type": "code",
   "execution_count": 575,
   "metadata": {
    "collapsed": false
   },
   "outputs": [],
   "source": [
    "import numpy as np\n",
    "from numpy import linalg as la\n",
    "import matplotlib as mat"
   ]
  },
  {
   "cell_type": "code",
   "execution_count": 576,
   "metadata": {
    "collapsed": false
   },
   "outputs": [
    {
     "name": "stdout",
     "output_type": "stream",
     "text": [
      "data1 shape is\n",
      "(5098, 5)\n",
      "\n",
      "data2 shape is\n",
      "(5098, 19)\n",
      "\n",
      "data name is\n",
      "['host_response_time', 'property_type', 'room_type', 'bed_type', 'cancellation_policy', 'zipcode', 'host_acceptance_rate', 'price', 'security_deposit', 'cleaning_fee', 'extra_people', 'reviews_per_month', 'host_response_rate', 'accommodates', 'bathrooms', 'bedrooms', 'availability_30', 'availability_60', 'availability_90', 'availability_365', 'number_of_reviews', 'review_scores_rating', 'require_guest_profile_picture', 'require_guest_phone_verification']\n"
     ]
    }
   ],
   "source": [
    "#array_type = np.dtype([('f0', 'U12'), ('f1', 'U3'), ('f2', 'U2'), ('f3', '<f8'), ('f4', 'U9')])\n",
    "\n",
    "#np.genfromtxt(csv_file, dtype=None, delimiter=',',usecols=(0,1,2,4))\n",
    "\n",
    "data1 = np.genfromtxt('airbnbdata1.csv', delimiter=\",\", dtype='U20', usecols=(0,2,3,4,5)) # got weird error when extract column 1\n",
    "data1_name = data1[0,:]\n",
    "data1 = data1[1:,:];\n",
    "data2 = np.genfromtxt('airbnbdata1.csv', delimiter=\",\", dtype='U40', usecols=(6, 7, 8, 9, 10, 11,12,13,14,15,16,17,18,19,20,21,22, 23, 24))\n",
    "data2_name = data2[0,:]; # Extract the heading\n",
    "data2 = np.genfromtxt('airbnbdata1.csv', delimiter=\",\", dtype='float', usecols=(6, 7, 8, 9, 10, 11,12,13,14,15,16,17,18,19,20,21,22, 23, 24))\n",
    "data2 = data2[1:,:];\n",
    "\n",
    "m = data1.shape[0] # number of samples\n",
    "print('data1 shape is')\n",
    "print(data1.shape)\n",
    "print()\n",
    "print('data2 shape is')\n",
    "print(data2.shape)\n",
    "print()\n",
    "data_name = []\n",
    "for i in range(len(data1_name)):\n",
    "    data_name.append(data1_name[i])\n",
    "\n",
    "for i in range(len(data2_name)):\n",
    "    data_name.append(data2_name[i])\n",
    "\n",
    "print('data name is')\n",
    "print(data_name)"
   ]
  },
  {
   "cell_type": "code",
   "execution_count": 577,
   "metadata": {
    "collapsed": false
   },
   "outputs": [
    {
     "name": "stdout",
     "output_type": "stream",
     "text": [
      "[  9.41170000e+04   7.60000000e-01   1.49000000e+02   0.00000000e+00\n",
      "   1.00000000e+02   0.00000000e+00   6.50000000e-01   1.00000000e+00\n",
      "   2.00000000e+00   1.00000000e+00   1.00000000e+00   1.00000000e+01\n",
      "   1.50000000e+01   3.90000000e+01   3.14000000e+02   6.00000000e+00\n",
      "   1.00000000e+02   0.00000000e+00   0.00000000e+00]\n"
     ]
    }
   ],
   "source": [
    "print(data2[17])"
   ]
  },
  {
   "cell_type": "code",
   "execution_count": 578,
   "metadata": {
    "collapsed": false
   },
   "outputs": [
    {
     "name": "stdout",
     "output_type": "stream",
     "text": [
      "flexible\n",
      "0.0\n",
      "\n"
     ]
    }
   ],
   "source": [
    "###### data processing to categorize\n",
    "\n",
    "host_res = np.zeros([m,1])\n",
    "prop = np.zeros([m,1])\n",
    "room_type = np.zeros([m,1])\n",
    "bed_type = np.zeros([m,1])\n",
    "cancel = np.zeros([m,1])\n",
    "for i in range(m):\n",
    "    for j in range(6):\n",
    "        if j==0:\n",
    "            # a few days or more = 0\n",
    "            # within a day = 1\n",
    "            # within a few hours = 2\n",
    "            #  within an hour = 3\n",
    "            if data1[i,j] == 'a few days or more':\n",
    "                host_res[i,0] = 0;\n",
    "            elif data1[i,j] == 'within a day':\n",
    "                host_res[i,0] = 1;\n",
    "            elif data1[i,j] == 'within a few hours':\n",
    "                host_res[i,0] = 2;\n",
    "            elif data1[i,j] == 'within an hour':\n",
    "                host_res[i,0] = 3;\n",
    "        if j==1:\n",
    "            #Apartment = 0\n",
    "            #Cabin = 1\n",
    "            #Condominium = 2 \n",
    "            #House = 3\n",
    "            if data1[i,j] == 'Apartment':\n",
    "                prop[i,0] = 0;\n",
    "            elif data1[i,j] == 'Cabin':\n",
    "                prop[i,0] = 1;\n",
    "            elif data1[i,j] == 'Condominium':\n",
    "                prop[i,0] = 2;\n",
    "            elif data1[i,j] == 'House':\n",
    "                prop[i,0] = 3;\n",
    "        if j==2:\n",
    "            #Entire home/apt = 0\n",
    "            #Private room = 1\n",
    "            #Shared room = 2\n",
    "            if data1[i,j] == 'Entire home/apt':\n",
    "                room_type[i,0] = 0;\n",
    "            elif data1[i,j] == 'Private room':\n",
    "                room_type[i,0] = 1;\n",
    "            elif data1[i,j] == 'Shared room':\n",
    "                room_type[i,0] = 2;\n",
    "        if j==3:\n",
    "            #Airbed = 0\n",
    "            #Couch = 1\n",
    "            #Futon  = 2\n",
    "            #Pull-out Sofa = 3 \n",
    "            #Real Bed = 4\n",
    "            if data1[i,j] == 'Airbed':\n",
    "                bed_type[i,0] = 0;\n",
    "            elif data1[i,j] == 'Couch':\n",
    "                bed_type[i,0] = 1;\n",
    "            elif data1[i,j] == 'Futon':\n",
    "                bed_type[i,0] = 2;\n",
    "            elif data1[i,j] == 'Pull-out Sofa':\n",
    "                bed_type[i,0] = 3; \n",
    "            elif data1[i,j] == 'Real Bed':\n",
    "                bed_type[i,0] = 4;\n",
    "        if j==4:\n",
    "            #flexible = 0\n",
    "            #moderate = 1\n",
    "            #strict = 2\n",
    "            if data1[i,j] == 'flexible':\n",
    "                cancel[i,0] = 0;\n",
    "            elif data1[i,j] == 'moderate':\n",
    "                cancel[i,0] = 1;\n",
    "            elif data1[i,j] == 'strict':\n",
    "                cancel[i,0] = 2;\n",
    "\n",
    "print(data1[4,4])\n",
    "print(cancel[4,0])\n",
    "print()"
   ]
  },
  {
   "cell_type": "code",
   "execution_count": 579,
   "metadata": {
    "collapsed": false,
    "scrolled": true
   },
   "outputs": [
    {
     "data": {
      "text/plain": [
       "array([['within an hour', 'Condominium', 'Entire home/apt', 'Real Bed',\n",
       "        'strict'],\n",
       "       ['within an hour', 'House', 'Private room', 'Futon', 'strict'],\n",
       "       ['within an hour', 'Apartment', 'Entire home/apt', 'Real Bed',\n",
       "        'strict'],\n",
       "       ..., \n",
       "       ['within an hour', 'House', 'Shared room', 'Real Bed', 'moderate'],\n",
       "       ['within an hour', 'House', 'Shared room', 'Real Bed', 'moderate'],\n",
       "       ['within an hour', 'House', 'Shared room', 'Real Bed', 'moderate']], \n",
       "      dtype='<U20')"
      ]
     },
     "execution_count": 579,
     "metadata": {},
     "output_type": "execute_result"
    }
   ],
   "source": [
    "data1"
   ]
  },
  {
   "cell_type": "code",
   "execution_count": 580,
   "metadata": {
    "collapsed": false
   },
   "outputs": [
    {
     "name": "stdout",
     "output_type": "stream",
     "text": [
      "(5098, 5)\n",
      "[[ 3.  2.  0.  4.  2.]\n",
      " [ 3.  3.  1.  2.  2.]\n",
      " [ 3.  0.  0.  4.  2.]\n",
      " ..., \n",
      " [ 3.  3.  2.  4.  1.]\n",
      " [ 3.  3.  2.  4.  1.]\n",
      " [ 3.  3.  2.  4.  1.]]\n"
     ]
    }
   ],
   "source": [
    "p_data =  np.column_stack((host_res, prop, room_type, bed_type, cancel))\n",
    "print(p_data.shape)\n",
    "print(p_data)"
   ]
  },
  {
   "cell_type": "code",
   "execution_count": 581,
   "metadata": {
    "collapsed": false
   },
   "outputs": [
    {
     "data": {
      "text/plain": [
       "0.0"
      ]
     },
     "execution_count": 581,
     "metadata": {},
     "output_type": "execute_result"
    }
   ],
   "source": [
    "data2[0,18]"
   ]
  },
  {
   "cell_type": "code",
   "execution_count": 582,
   "metadata": {
    "collapsed": false
   },
   "outputs": [],
   "source": [
    "np.savetxt('categorized_data.csv', p_data, delimiter=',')   # X is an array"
   ]
  },
  {
   "cell_type": "code",
   "execution_count": 583,
   "metadata": {
    "collapsed": true
   },
   "outputs": [],
   "source": [
    "np.savetxt('data2.csv', data2, delimiter=',')   # X is an array"
   ]
  },
  {
   "cell_type": "code",
   "execution_count": 584,
   "metadata": {
    "collapsed": false
   },
   "outputs": [
    {
     "data": {
      "text/plain": [
       "array([  9.41170000e+04,   7.60000000e-01,   1.49000000e+02,\n",
       "         0.00000000e+00,   1.00000000e+02,   0.00000000e+00,\n",
       "         6.50000000e-01,   1.00000000e+00,   2.00000000e+00,\n",
       "         1.00000000e+00,   1.00000000e+00,   1.00000000e+01,\n",
       "         1.50000000e+01,   3.90000000e+01,   3.14000000e+02,\n",
       "         6.00000000e+00,   1.00000000e+02,   0.00000000e+00,\n",
       "         0.00000000e+00])"
      ]
     },
     "execution_count": 584,
     "metadata": {},
     "output_type": "execute_result"
    }
   ],
   "source": [
    "data2[17]"
   ]
  },
  {
   "cell_type": "code",
   "execution_count": null,
   "metadata": {
    "collapsed": true
   },
   "outputs": [],
   "source": []
  },
  {
   "cell_type": "code",
   "execution_count": null,
   "metadata": {
    "collapsed": true
   },
   "outputs": [],
   "source": []
  },
  {
   "cell_type": "code",
   "execution_count": null,
   "metadata": {
    "collapsed": true
   },
   "outputs": [],
   "source": []
  },
  {
   "cell_type": "code",
   "execution_count": null,
   "metadata": {
    "collapsed": true
   },
   "outputs": [],
   "source": []
  }
 ],
 "metadata": {
  "kernelspec": {
   "display_name": "Python 3",
   "language": "python",
   "name": "python3"
  },
  "language_info": {
   "codemirror_mode": {
    "name": "ipython",
    "version": 3
   },
   "file_extension": ".py",
   "mimetype": "text/x-python",
   "name": "python",
   "nbconvert_exporter": "python",
   "pygments_lexer": "ipython3",
   "version": "3.5.1"
  }
 },
 "nbformat": 4,
 "nbformat_minor": 0
}
