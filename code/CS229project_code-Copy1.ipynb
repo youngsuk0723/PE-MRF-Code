{
 "cells": [
  {
   "cell_type": "code",
   "execution_count": 20,
   "metadata": {
    "collapsed": false
   },
   "outputs": [
    {
     "name": "stdout",
     "output_type": "stream",
     "text": [
      "\n"
     ]
    }
   ],
   "source": [
    "import numpy as np\n",
    "from numpy import linalg as la\n",
    "import matplotlib.pyplot as plt"
   ]
  },
  {
   "cell_type": "code",
   "execution_count": 165,
   "metadata": {
    "collapsed": true
   },
   "outputs": [],
   "source": [
    "def Mmatrix(data, m_vec, dim_vec, balance):\n",
    "    # data is the sufficient statistic data\n",
    "    num_sam,d_num = np.shape(data)\n",
    "    # number of sample is 990\n",
    "    # number of d is 64\n",
    "#     print(num_sam)\n",
    "    \n",
    "    #m_vec = [1, m1 m2 m3 m4]\n",
    "    #dim_vec = [1, dim1, dim2, dim3, dim4]\n",
    "    \n",
    "    #m1: number of Bernoulli sample  = 8\n",
    "    #dim1: T(x) dimension of Bernoulli sample = 1\n",
    "    \n",
    "    #m2: number of Gaussian sample = 8\n",
    "    #dim2: T(x) dimension of Gaussian sample = 1\n",
    "        \n",
    "    #m3: number of Gamma sample = 8\n",
    "    #dim3: T(x) dimension of Gamma sample = 2\n",
    "    \n",
    "    #m4: number of Dirichlet sample  = 8 \n",
    "     #dim4: T(x) dimension of Dirichlet sample = 3\n",
    "    \n",
    "    \n",
    "#     balance = np.sqrt([1 1 2 3])\n",
    "    endpoint1 = m_vec[1] * dim_vec[1] # 8\n",
    "\n",
    "    ber_data = data[:,0:endpoint1]/balance[1] # index 0 to 7 are Bernoulli\n",
    "    \n",
    "    endpoint2 = endpoint1 + m_vec[2] * dim_vec[2] # 8 + 16 = 24\n",
    "\n",
    "    # for gaussian case, we only need x part in [x x^2]\n",
    "    gauss_data = data[:,endpoint1:endpoint2]/balance[2]\n",
    "#     gauss_data = np.zeros(np.shape(ber_data))\n",
    "#     k=0;\n",
    "#     for i in range(endpoint1, endpoint2, 2): # i in range(8,24,2)\n",
    "#         gauss_data[:,k] = data[:,i]/balance[2]\n",
    "#         k=k+1\n",
    "    \n",
    "    endpoint3 = endpoint2 + m_vec[3] * dim_vec[3] # 24 + 8*2 = 40\n",
    "\n",
    "    gamma_data = data[:,endpoint2:endpoint3]/balance[3] # index 24 to 40 are Gamma\n",
    "    endpoint4 = endpoint3 + 2*m_vec[4] * dim_vec[4] # 40 + 8*3 = 64\n",
    "    \n",
    "    # the rest of them are dirichlet distribution\n",
    "    dirich_data = data[:,endpoint3:endpoint4]/balance[4]\n",
    "    \n",
    "    vec = np.ones([num_sam,1])\n",
    "\n",
    "    # construct new data\n",
    "\n",
    "    new_data = np.concatenate((vec, ber_data, gauss_data, gamma_data, dirich_data), axis=1)\n",
    "    \n",
    "    M = np.transpose(np.matrix(new_data))*np.matrix(new_data)/num_sam\n",
    "    \n",
    "    return M"
   ]
  },
  {
   "cell_type": "code",
   "execution_count": 83,
   "metadata": {
    "collapsed": true
   },
   "outputs": [],
   "source": [
    "def Dmatrix(m_vec, dim_vec):\n",
    "    #m_vec = [1, m1, m2, m3, m4]\n",
    "    #dim_vec = [1, dim1, dim2, dim3, dim4]\n",
    "    \n",
    "    #m1: number of Bernoulli sample  = 8\n",
    "    #dim1: T(x) dimension of Bernoulli sample = 1\n",
    "    \n",
    "    #m2: number of Gaussian sample = 8\n",
    "    #dim2: T(x) dimension of Gaussian sample = 1\n",
    "        \n",
    "    #m3: number of Gamma sample = 8\n",
    "    #dim3: T(x) dimension of Gamma sample = 2\n",
    "    \n",
    "    #m4: number of Dirichlet sample  = 8 \n",
    "     #dim4: T(x) dimension of Dirichlet sample = 3\n",
    "    \n",
    "    # only Bernoulli has value. The rest are continuous random variable\n",
    "    l0 = 0\n",
    "    l1 = np.ones(dim_vec[1]*m_vec[1])\n",
    "    l2 = np.zeros(dim_vec[2]*m_vec[2])\n",
    "    l3 = np.zeros(dim_vec[3]*m_vec[3])\n",
    "    l4 = np.zeros(dim_vec[4]*m_vec[4])\n",
    "    \n",
    "    #l1 = np.diag(temp);\n",
    "    temp = np.hstack((l0,l1,l2,l3,l4)) # makes an array in the form of [ l0 l1 l2 l3 l4 ] \n",
    "    D = np.diag(temp)\n",
    "    return D"
   ]
  },
  {
   "cell_type": "markdown",
   "metadata": {},
   "source": [
    "\n",
    "M correspond to a matrix in the form:\n",
    "\n",
    "       [ M11  |   M12 ] \n",
    "       --------------------         \n",
    "       [ M21  |   M22 ]\n"
   ]
  },
  {
   "cell_type": "code",
   "execution_count": 84,
   "metadata": {
    "collapsed": false
   },
   "outputs": [],
   "source": [
    "def Block_Extract(Z, row_ind, col_ind, m, dim):\n",
    "    #m = np.array([1, 8, 8, 8, 8]) # 1 for dummy variable\n",
    "    #dim = np.array([1, 1, 1, 2, 3]) # 1 for dummy variable, \n",
    "\n",
    "    #m[0]: dummy variable, nu =1\n",
    "    #dim[0]: dummy variable, nu =1\n",
    "    \n",
    "    #m[1]: number of Bernoulli sample  = 8\n",
    "    #dim[1]: T(x) dimension of Bernoulli sample = 1\n",
    "    \n",
    "    #m[2]: number of Gaussian sample = 8\n",
    "    #dim[2]: T(x) dimension of Gaussian sample = 1\n",
    "        \n",
    "    #m[3]: number of Gamma sample = 8\n",
    "    #dim[3]: T(x) dimension of Gamma sample = 2\n",
    "    \n",
    "    #m[4]: number of Dirichlet sample  = 8 \n",
    "    #dim[4]: T(x) dimension of Dirichlet sample = 3\n",
    "    \n",
    "    # Obtain New row index\n",
    "    new_row = 0\n",
    "    for i in range(len(m)): # iterate through 0 1 2 3 4\n",
    "        if row_ind < m[i]:\n",
    "            new_row += dim[i]*row_ind\n",
    "            Rdim = dim[i]\n",
    "            break\n",
    "        row_ind -= m[i]\n",
    "        new_row += dim[i]*m[i]\n",
    "    \n",
    "    # Obtain New column index\n",
    "    new_col = 0\n",
    "    for i in range(len(m)):\n",
    "        if col_ind < m[i]:\n",
    "            new_col += dim[i]*col_ind\n",
    "            Cdim = dim[i]\n",
    "            break\n",
    "        col_ind -= m[i]\n",
    "        new_col += dim[i]*m[i]\n",
    "\n",
    "    return Z[new_row:new_row+Rdim, new_col:new_col+Cdim]\n",
    "    \n"
   ]
  },
  {
   "cell_type": "code",
   "execution_count": 85,
   "metadata": {
    "collapsed": false
   },
   "outputs": [],
   "source": [
    "def Zupdate(theta, U, Eta, m_vec, dim_vec):\n",
    "    # i = 1, ... , 32\n",
    "    # j = 1, ... , 32\n",
    "    # Extract number of rows and columns for Z; should be (d+1) and (d+1) respectively\n",
    "    # for testing, it is a 57 by 57 matrix\n",
    "    \n",
    "    #m1: number of Bernoulli sample  = 8\n",
    "    #dim1: T(x) dimension of Bernoulli sample = 1\n",
    "    \n",
    "    #m2: number of Gaussian sample = 8\n",
    "    #dim2: T(x) dimension of Gaussian sample = 1\n",
    "        \n",
    "    #m3: number of Gamma sample = 8\n",
    "    #dim3: T(x) dimension of Gamma sample = 2\n",
    "    \n",
    "    #m4: number of Dirichlet sample  = 8 \n",
    "     #dim4: T(x) dimension of Dirichlet sample = 3\n",
    "    \n",
    "    row,col = theta.shape\n",
    "    \n",
    "    dist_num = np.sum(m_vec)-1# 32\n",
    "    \n",
    "    m = m_vec\n",
    "    dim = dim_vec\n",
    "    \n",
    "    temp_matrix = theta+U\n",
    "    \n",
    "    B = [ [] for i in range(dist_num+1)] # [  [], [], [], ... [] ]\n",
    "   \n",
    "    for i in range(dist_num+1): # iterate from 0 to 32\n",
    "        for j in range(dist_num+1):\n",
    "            if i==0 or j==0 or i==j :\n",
    "                B[i].append(Block_Extract(temp_matrix, i, j, m, dim)) # Helper function called \"Block_Extract\"\n",
    "            else:\n",
    "                gamma = la.norm(Block_Extract(temp_matrix, i, j, m, dim), 'fro')\n",
    "                if gamma > Eta[i][j]:\n",
    "                    B[i].append((1 - Eta[i][j]/gamma)*Block_Extract(temp_matrix, i,j, m, dim))\n",
    "                else:\n",
    "                    B[i].append(np.zeros(Block_Extract(temp_matrix, i, j, m, dim).shape))\n",
    "                    \n",
    "    # now B is [ [B0,0 , B0,1 , ... , B0,31], [B1,0 , B1,1 , ... , B1,31], ..., [B31,0, ..., B31,31]]\n",
    "    Z_new = np.bmat(B)\n",
    "    Z_new = (Z_new + np.transpose(Z_new))/2\n",
    "    \n",
    "    return Z_new\n"
   ]
  },
  {
   "cell_type": "code",
   "execution_count": 86,
   "metadata": {
    "collapsed": false
   },
   "outputs": [],
   "source": [
    "def ADMM(theta, Z, U, A, K, lamb, W, num_sam, m_vec, dim_vec, epsilon_abs, epsilon_rel):\n",
    "    # k stands for number of iterations\n",
    "    # lamb stands for the lambda, which is lasso parameter \n",
    "    # Dimension of theta, U, Z and A is (d+1) x (d+1)\n",
    "    # for testing, it is 57 by 57 matrix\n",
    "    \n",
    "    #m_vec = np.array([1, 8, 8, 8, 8]) # 1 for dummy variable\n",
    "    #dim_vec = np.array([1, 1, 1, 2, 3]) # 1 for dummy variable, \n",
    "    \n",
    "    new_theta = theta\n",
    "    prev_Z = Z\n",
    "    \n",
    "    new_U = U\n",
    "    n = num_sam # 990\n",
    "    \n",
    "    mat_dim = theta.shape[0] # 57\n",
    "    \n",
    "    ###################################TEST for RHO for better result #####################################\n",
    "    rho = float(3.5) # define rho\n",
    "    eta1 = rho/n # define eta for theta update\n",
    "    eta2 = (lamb*W)/rho; # define eta2 for Z update\n",
    "    ###############################################################################################\n",
    "    \n",
    "    ####################################TEST for STOPPING CRITERIA#####################################\n",
    "    epsilon_abs = epsilon_abs ###TO DO\n",
    "    \n",
    "    epsilon_rel = epsilon_rel\n",
    "    ###############################################################################################\n",
    "    \n",
    "    # Initialize R_k and S_k\n",
    "    R_k = []\n",
    "    S_k = []\n",
    "    epsilon_pri = []\n",
    "    epsilon_dual = []\n",
    "    \n",
    "    new_Z = Z;\n",
    "    new_U = U;\n",
    "    \n",
    "    for k in range(K):\n",
    "        temp = np.multiply((new_Z-new_U),eta1) - A;\n",
    "\n",
    "        temp = (temp + np.transpose(temp))/2\n",
    "        np.matrix(temp)\n",
    "        \n",
    "        lambvec,Q = la.eig(temp)\n",
    "       \n",
    "        #lambmat is eigenvalue\n",
    "        #v is eigenvector \n",
    "        \n",
    "        Q = np.matrix(Q)\n",
    "        \n",
    "        # Update theta\n",
    "        new_theta = (1/(2*eta1))*Q*np.diag(lambvec + np.sqrt( np.power(lambvec,2) + 4*eta1 * np.ones(len(lambvec)) )  )*np.transpose(Q)\n",
    "        \n",
    "        theta = new_theta # re-assign the theta (correpsond to \"theta_k\")\n",
    "        \n",
    "        # Update Z\n",
    "        new_Z = Zupdate(new_theta, new_U, eta2, m_vec, dim_vec)\n",
    "        \n",
    "        #Calculate residual (stopping criteria 1)\n",
    "            # calculate r^k\n",
    "        R_k.append(la.norm(theta - new_Z, 'fro'))\n",
    "        \n",
    "            # calculate primal epsilon\n",
    "        epsilon_pri.append( mat_dim * epsilon_abs  + epsilon_rel * max( la.norm(theta, 'fro'), la.norm(new_Z, 'fro') ) )\n",
    "        \n",
    "        if R_k[k] <= epsilon_pri[k]:\n",
    "            sentence = 'Primal Residual True'\n",
    "        \n",
    "        # Calculate dual (stopping criteria 2)\n",
    "            # calculate r^k\n",
    "        S_k.append(rho * la.norm(new_Z-prev_Z, 'fro'))\n",
    "        \n",
    "        prev_Z = new_Z # Book-keeping previous Z (correspond to \"Z_k\")\n",
    "        \n",
    "        #Update U\n",
    "        new_U = new_U + new_theta - new_Z\n",
    "        \n",
    "        # calculate dual epsilon\n",
    "        epsilon_dual.append( mat_dim * epsilon_abs + epsilon_rel * rho * la.norm(new_U, 'fro'))\n",
    "        \n",
    "\n",
    "        if (k % 25) == 0:\n",
    "            print '.', # python 2.7\n",
    "#             print('.', end=\"\") # python 3.5\n",
    "            \n",
    "#         if k > 300:\n",
    "#             print('new theta is')\n",
    "#             print(new_theta)\n",
    "#             np.savetxt('new_theta.csv', new_theta, delimiter=',')\n",
    "#             print()\n",
    "#             print('new Z is')\n",
    "#             print(new_Z)\n",
    "        \n",
    "        if S_k[k] <= epsilon_dual[k]:\n",
    "            sentence = 'Dual Residual True'\n",
    "        \n",
    "        if R_k[k] <= epsilon_pri[k] and S_k[k] <= epsilon_dual[k]:\n",
    "            sentence = 'primal and dual both met'\n",
    "            break;\n",
    "    \n",
    "    \n",
    "    ## END of Iteration ##### \n",
    "    sentence2 = 'iteration is over'\n",
    "    print('Iter number :',k)\n",
    "    print()\n",
    "    if k == K-1:\n",
    "        print('Status: Inaccurate Solution')\n",
    "        print()\n",
    "        print('Primal Residual is          ', R_k[k-1])    \n",
    "        print()\n",
    "        print('Primal Stopping criteria is ', epsilon_pri[k-1])\n",
    "        print()\n",
    "        print('Dual Residual is            ', S_k[k-1])\n",
    "        print()\n",
    "        print('Dual Stopping criteria is   ', epsilon_dual[k-1])\n",
    "    else:\n",
    "        print('Status: Optimial Solution')\n",
    "        print('primal: ', R_k[k], 'vs', epsilon_pri[k])\n",
    "        print('dual: ', S_k[k], 'vs', epsilon_dual[k])\n",
    "    \n",
    "    return new_theta, new_Z, new_U, R_k, S_k, epsilon_pri, epsilon_dual\n"
   ]
  },
  {
   "cell_type": "code",
   "execution_count": 87,
   "metadata": {
    "collapsed": false
   },
   "outputs": [],
   "source": [
    "def computeErrors(edge_matrix_actual,edge_matrix_est, Theta, A, e1,e2,e3,e4,e5,e6):\n",
    "    n = edge_matrix_actual.shape[0]\n",
    "    D = np.where(edge_matrix_est != 0)[0].shape[0]#len(numpy.where(S_est == 0)[0])\n",
    "    T = np.where(edge_matrix_actual != 0)[0].shape[0]\n",
    "#            print np.where(S_actual != 0)[0]\n",
    "    TP = float(np.where(np.logical_and(edge_matrix_actual,edge_matrix_est) == True)[0].shape[0])\n",
    "    \n",
    "#    T = np.count_nonzero(edge_matrix_actual)\n",
    "#    D = np.count_nonzero(edge_matrix_est)\n",
    "#    TandD = float(np.count_nonzero( (edge_matrix_actual != 0) & (edge_matrix_est != 0) ) )\n",
    "    P = TP/D\n",
    "    R = TP/T\n",
    "    score = 2* P*R/(P+R)\n",
    "    offDiagDiff = edge_matrix_actual - edge_matrix_est\n",
    "    offDiagDiff = offDiagDiff - np.diag(np.diag(offDiagDiff))\n",
    "#    S_diff = (S_est - S_previous)  \n",
    "#    S_diff = S_diff - np.diag(np.diag(S_diff))\n",
    "#    ind = (S_diff < 1e-2) & (S_diff > - 1e-2)\n",
    "#    S_diff[ind] = 0    \n",
    "#    K = np.count_nonzero(S_diff)\n",
    "    K = D\n",
    "    AIC = -np.log(la.det(Theta)) + np.trace(np.dot(Theta, A)) + K\n",
    "    TPR = TP/T\n",
    "    FPR = (D-TP)/(np.square(n)-T)\n",
    "    e1.append(P)\n",
    "    e2.append(R)        \n",
    "    e3.append(score)\n",
    "#    K = float(np.where(np.logical_and((S_est>0) != (S_previous>0), S_est>0) == True)[0].shape[0])\n",
    "    e4.append(AIC) #AIC\n",
    "    e5.append(TPR) #AIC\n",
    "    e6.append(FPR) #AIC\n",
    "    \n",
    "#    e4.append(alg.norm(S_est -  S_previous, 'fro'))\n",
    "#     print ('\\nD = ',D)\n",
    "#     print('T = ', T)\n",
    "#     print('T and D = ', TP)\n",
    "#     print('K = ', K)\n",
    "#     print('P = ', P)\n",
    "#     print('R = ', R)\n",
    "#     print('Score = ', score)\n",
    "#     print('AIC = ', AIC)\n",
    "    print ('D = ',D,'T = ', T,'TandD = ', TP, 'TPR = ', TPR, 'FPR = ', FPR, 'K = ', K,'P = ', P,'R = ', R,'Score = ', score, 'AIC = ', AIC)\n",
    "    \n",
    "            \n",
    "    return e1, e2, e3, e4 ,e5 , e6  "
   ]
  },
  {
   "cell_type": "code",
   "execution_count": 88,
   "metadata": {
    "collapsed": true
   },
   "outputs": [],
   "source": [
    "# In[]\n",
    "def genEdgeMatrix(filename_edge, n):\n",
    "    edge_data = np.genfromtxt(filename_edge, delimiter=',')\n",
    "    edge_data = edge_data[::2,:]\n",
    "    \n",
    "    numberOfEdge, dummy = edge_data.shape\n",
    "\n",
    "    edge_matrix=np.diag(np.concatenate([np.ones(n)]))\n",
    "#    edge_matrix=np.zeros([n,n])\n",
    "    for k in range(numberOfEdge):\n",
    "        i = edge_data[k][0]\n",
    "        j = edge_data[k][1]\n",
    "        edge_matrix[j,i]=1\n",
    "        edge_matrix[i,j]=1\n",
    "    \n",
    "    return edge_matrix\n",
    "# In[805]"
   ]
  },
  {
   "cell_type": "code",
   "execution_count": 89,
   "metadata": {
    "collapsed": false
   },
   "outputs": [],
   "source": [
    "def createEmatrix(theta, m_vec, dim_vec, tolerance):\n",
    "    #m_vec = np.array([1, 8, 8, 8, 8]) # 1 for dummy variable\n",
    "    #dim_vec = np.array([1, 1, 1, 2, 3]) # 1 for dummy variable, \n",
    "    \n",
    "    m = m_vec\n",
    "    dim = dim_vec\n",
    "    \n",
    "    dist_num = np.sum(m)-1\n",
    "    E = np.zeros([dist_num+1,dist_num+1])\n",
    "#     dist_num = 32;\n",
    "    B = [ [] for i in range(dist_num+1)] # [  [], [], [], ... [] ]\n",
    "    \n",
    "    \n",
    "    temp_vec = []\n",
    "    for i in range(dist_num+1): # iterate from 0 to 32\n",
    "        for j in range(dist_num+1):\n",
    "            B[i].append(Block_Extract(theta, i, j, m, dim)) # Helper function called \"Block_Extract\"\n",
    "            temp = la.norm(Block_Extract(theta, i, j, m, dim), 'fro')\n",
    "            temp_vec.append(temp)\n",
    "            if np.absolute(temp) >= tolerance: ###### tolerance!!! #### TEST FOR CHANGE ####\n",
    "                E[i,j] = 1\n",
    "            else:\n",
    "                E[i,j] = 0\n",
    "\n",
    "    return E[1:,1:]\n",
    "            "
   ]
  },
  {
   "cell_type": "code",
   "execution_count": null,
   "metadata": {
    "collapsed": false,
    "scrolled": true
   },
   "outputs": [],
   "source": []
  },
  {
   "cell_type": "code",
   "execution_count": 174,
   "metadata": {
    "collapsed": false,
    "scrolled": true
   },
   "outputs": [
    {
     "name": "stdout",
     "output_type": "stream",
     "text": [
      "('+++++++++++++++++++++++++++', 'Test For ', 'test3_sufficient_statistics.csv', '+++++++++++++++++++++++++++')\n",
      "(990, 8) (990, 8) (990, 16) (990, 24)\n",
      "('epsilon_abs is ', 0.001, 'epslion_rel is ', 0.001, 'tolerance is', 0.01)\n",
      "('lambda is', 0.01)\n",
      ". . . . . . . . . . . . . . . . . . . . ('Iter number :', 490)\n",
      "()\n",
      "Status: Optimial Solution\n",
      "('primal: ', 2.4328724979906876e-05, 'vs', 0.48724604287429496)\n",
      "('dual: ', 0.057167979490595516, 'vs', 0.057549181208709839)\n",
      "('D = ', 914, 'T = ', 84, 'TandD = ', 78.0, 'TPR = ', 0.9285714285714286, 'FPR = ', 0.8893617021276595, 'K = ', 914, 'P = ', 0.08533916849015317, 'R = ', 0.9285714285714286, 'Score = ', 0.156312625250501, 'AIC = ', 842.02843748120983)\n"
     ]
    },
    {
     "name": "stderr",
     "output_type": "stream",
     "text": [
      "/Library/anaconda/lib/python2.7/site-packages/ipykernel/__main__.py:13: VisibleDeprecationWarning: using a non-integer number instead of an integer will result in an error in the future\n",
      "/Library/anaconda/lib/python2.7/site-packages/ipykernel/__main__.py:14: VisibleDeprecationWarning: using a non-integer number instead of an integer will result in an error in the future\n"
     ]
    },
    {
     "data": {
      "image/png": "[encoded data removed]",
      "text/plain": [
       "<matplotlib.figure.Figure at 0x11028dcd0>"
      ]
     },
     "metadata": {},
     "output_type": "display_data"
    },
    {
     "name": "stdout",
     "output_type": "stream",
     "text": [
      "---------------------- Iteration is over --------------------------\n",
      "('lambda is', 0.056234132519034911)\n",
      ". . . . . . . . . . . . . . . . . . ('Iter number :', 439)\n",
      "()\n",
      "Status: Optimial Solution\n",
      "('primal: ', 0.00015173816644647946, 'vs', 0.48161333940936624)\n",
      "('dual: ', 0.060063560963853027, 'vs', 0.060087740675401818)\n",
      "('D = ', 914, 'T = ', 84, 'TandD = ', 78.0, 'TPR = ', 0.9285714285714286, 'FPR = ', 0.8893617021276595, 'K = ', 914, 'P = ', 0.08533916849015317, 'R = ', 0.9285714285714286, 'Score = ', 0.156312625250501, 'AIC = ', 842.03745127924003)\n"
     ]
    },
    {
     "data": {
      "image/png": "[encoded data removed]",
      "text/plain": [
       "<matplotlib.figure.Figure at 0x11027eb50>"
      ]
     },
     "metadata": {},
     "output_type": "display_data"
    },
    {
     "name": "stdout",
     "output_type": "stream",
     "text": [
      "---------------------- Iteration is over --------------------------\n",
      "('lambda is', 0.31622776601683794)\n",
      ". . . . . . . . . . . . . . ('Iter number :', 345)\n",
      "()\n",
      "Status: Optimial Solution\n",
      "('primal: ', 0.00096294864815335513, 'vs', 0.46527440126739833)\n",
      "('dual: ', 0.073669504465448357, 'vs', 0.074351014057379164)\n",
      "('D = ', 900, 'T = ', 84, 'TandD = ', 78.0, 'TPR = ', 0.9285714285714286, 'FPR = ', 0.874468085106383, 'K = ', 900, 'P = ', 0.08666666666666667, 'R = ', 0.9285714285714286, 'Score = ', 0.15853658536585366, 'AIC = ', 828.13930764552629)\n"
     ]
    },
    {
     "data": {
      "image/png": "[encoded data removed]",
      "text/plain": [
       "<matplotlib.figure.Figure at 0x10986a290>"
      ]
     },
     "metadata": {},
     "output_type": "display_data"
    },
    {
     "name": "stdout",
     "output_type": "stream",
     "text": [
      "---------------------- Iteration is over --------------------------\n",
      "('lambda is', 1.7782794100389228)\n",
      ". . . . . . . . . . ('Iter number :', 235)\n",
      "()\n",
      "Status: Optimial Solution\n",
      "('primal: ', 0.0098169458875451161, 'vs', 0.41939755117379252)\n",
      "('dual: ', 0.1501942601057813, 'vs', 0.15251870181240823)\n",
      "('D = ', 772, 'T = ', 84, 'TandD = ', 78.0, 'TPR = ', 0.9285714285714286, 'FPR = ', 0.7382978723404255, 'K = ', 772, 'P = ', 0.10103626943005181, 'R = ', 0.9285714285714286, 'Score = ', 0.18224299065420563, 'AIC = ', 700.93909117962767)\n"
     ]
    },
    {
     "data": {
      "image/png": "[encoded data removed]",
      "text/plain": [
       "<matplotlib.figure.Figure at 0x10ab7a310>"
      ]
     },
     "metadata": {},
     "output_type": "display_data"
    },
    {
     "name": "stdout",
     "output_type": "stream",
     "text": [
      "---------------------- Iteration is over --------------------------\n",
      "('lambda is', 10.0)\n",
      ". . . . . ('Iter number :', 105)\n",
      "()\n",
      "Status: Optimial Solution\n",
      "('primal: ', 0.21410978474054479, 'vs', 0.34119458095922311)\n",
      "('dual: ', 0.52593151785327819, 'vs', 0.53969961863988281)\n",
      "('D = ', 610, 'T = ', 84, 'TandD = ', 70.0, 'TPR = ', 0.8333333333333334, 'FPR = ', 0.574468085106383, 'K = ', 610, 'P = ', 0.11475409836065574, 'R = ', 0.8333333333333334, 'Score = ', 0.2017291066282421, 'AIC = ', 544.14455099079885)\n"
     ]
    },
    {
     "data": {
      "image/png": "[encoded data removed]",
      "text/plain": [
       "<matplotlib.figure.Figure at 0x10f316850>"
      ]
     },
     "metadata": {},
     "output_type": "display_data"
    },
    {
     "name": "stdout",
     "output_type": "stream",
     "text": [
      "---------------------- Iteration is over --------------------------\n",
      "()\n",
      "('TPRvec is', [[0.9285714285714286], [0.9285714285714286], [0.9285714285714286], [0.9285714285714286], [0.8333333333333334]])\n",
      "()\n",
      "('FPRvec is', [[0.8893617021276595], [0.8893617021276595], [0.874468085106383], [0.7382978723404255], [0.574468085106383]])\n",
      "()\n",
      "[[ 0.929]\n",
      " [ 0.929]\n",
      " [ 0.929]\n",
      " [ 0.929]\n",
      " [ 0.833]]\n",
      "[[ 0.889]\n",
      " [ 0.889]\n",
      " [ 0.874]\n",
      " [ 0.738]\n",
      " [ 0.574]]\n"
     ]
    }
   ],
   "source": [
    "np.set_printoptions(suppress=True, precision = 3)\n",
    "\n",
    "###################################TEST CODE######################################\n",
    "sumTPR = np.zeros([5,1]) ## intialize for summing True Positive error vector\n",
    "sumFPR = np.zeros([5,1]) ## intialize for summing False Positive error vector\n",
    "    \n",
    "max_iter=1\n",
    "for i in range(0, max_iter):\n",
    "#     i = 25\n",
    "#     file_name = 'sufficient_statistics_'+str(i)+'.csv'\n",
    "#     file_name2 = 'modifiedEdge_'+str(i)+'.csv'\n",
    "    file_name = 'test3_sufficient_statistics.csv'\n",
    "    file_name2 = 'test3_edges.csv'\n",
    "    print('+++++++++++++++++++++++++++', 'Test For ', file_name, '+++++++++++++++++++++++++++')\n",
    "\n",
    "#     print('TEST for :')\n",
    "#     print(file_name)\n",
    "#     print(file_name2)\n",
    "#     print()\n",
    "    \n",
    "    #########################################################################################################\n",
    "    # number of Bernoulli sample, Bernoulli T(x) dimension\n",
    "    # number of Gamma sample, Gamma T(x) dimension\n",
    "    # number of Gaussian sample, Gaussian T(x) dimension\n",
    "    # number of Dirichlet sample, Dirichlet T(x) dimension\n",
    "    # respectively\n",
    "       \n",
    "    # n_r[0], m_t[0], n_t[1], m_r[1], n_r[2], m_t[2], n_r[3], m_t[3]\n",
    "    data = np.genfromtxt(file_name, delimiter=\",\")\n",
    "    data = data[:1000]\n",
    "    m1 = 8\n",
    "    m2 = 8\n",
    "    m3 = 8\n",
    "    m4 = 8\n",
    "    \n",
    "    dim1 = 1\n",
    "    dim2 = 1\n",
    "    dim3 = 2\n",
    "    dim4 = 3\n",
    "    \n",
    "    m = np.array([1, m1, m2, m3, m4])\n",
    "    dim = np.array([1, dim1, dim2, dim3, dim4])\n",
    "    #########################################################################################################\n",
    "    \n",
    "    numOfType = len(dim)-1\n",
    "    \n",
    "    # Check if m_r and n_t are well defined according to the paper notations.\n",
    "    if len(m) == len(dim):\n",
    "        d = np.sum(np.multiply(m, dim))-1 # the dimension of augmented edge paramter matrix\n",
    "#         print(d)\n",
    "    else:\n",
    "        print('m_r and n_t should have the same length')\n",
    "    \n",
    "    dist_num = np.sum(m)-1\n",
    "    \n",
    "#     balance = np.sqrt(dim)\n",
    "    balance = [1, 1, 1, 2, 3]\n",
    "#     balance = [1, 1, 1, 3, 2 ]\n",
    "    \n",
    "    M = Mmatrix(data, m, dim, balance)\n",
    "    \n",
    "    D = Dmatrix(m, dim) \n",
    "    A = M+D\n",
    "    A = np.matrix(A) #+ np.identity(57)\n",
    "    A = (A + np.transpose(A))/2\n",
    "    \n",
    "    # Generate A for a test\n",
    "    #A = np.random.randn(57,57)\n",
    "    \n",
    "    #     Lamvec, Vec = la.eig(A)\n",
    "    #     min_lamb = min(Lamvec)\n",
    "    #     #A = A + np.identity(d+1)*(-1*(min_lamb) + 0.01)    \n",
    "    #     #Lamvec,Vec = la.eig(A)\n",
    "    #     min_lamb = min(Lamvec)\n",
    "    #     if min_lamb> 0:\n",
    "    #         print('PSD! with min_lamb',min_lamb)\n",
    "    #     else:\n",
    "    #         print('Negatve Definite with min_lamb', min_lamb)\n",
    "\n",
    "    #np.savetxt('A.csv', A, delimiter=',')\n",
    "\n",
    "    ### initialize Theta ###\n",
    "    theta = np.ones([d+1, d+1])*0.1  # theta is a 57 x 57 matrix with each entries with 0.1\n",
    "\n",
    "    Z = np.ones([d+1,d+1])*0.2 #57x57 identity matrix ------- when I made this matrix to 0 matrix, in theta update, it calculates (Z - U) as (0 mat - 0 mat) gives error\n",
    "    U = np.zeros([d+1, d+1])*0.1 #0 matirx\n",
    "    K = 1000 # maximum number of ADMM iteration\n",
    "    \n",
    "    Mvec = np.zeros([dist_num+1,1])\n",
    "    for j in range(dist_num+1):\n",
    "        if j< 9:\n",
    "            Mvec[j] = 1\n",
    "        elif j < 17:\n",
    "            Mvec[j] = 1\n",
    "        elif j < 25:\n",
    "            Mvec[j] = 2\n",
    "        else:\n",
    "            Mvec[j] = 3\n",
    "    \n",
    "    ####################################### TEST for different W matrix ###################################\n",
    "    Wmatrix = np.sqrt(Mvec * np.transpose(Mvec))\n",
    "#     Wmatrix = np.power(Mvec * np.transpose(Mvec),2)\n",
    "#     Wmatrix = np.ones([dist_num+1,dist_num+1])\n",
    "    W = Wmatrix \n",
    "    #np.savetxt('Wmatrix.csv', W, delimiter=',')\n",
    "    ################################################################################################\n",
    "    \n",
    "    number_of_sample,d_num = np.shape(data)\n",
    "    \n",
    "    ################################TEST for different LAMBDA value ###########################################\n",
    "    set_length = 5\n",
    "    lamb = np.logspace(-2, 1, set_length) #where set_length is the number of points in the ROC graph\n",
    "#     lamb = [10]\n",
    "    ################################################################################################\n",
    "    \n",
    "    ################################################################################################\n",
    "    epsilon_abs = 1e-3\n",
    "    epslion_rel =  1e-3\n",
    "    tol = 1e-2\n",
    "    print('epsilon_abs is ', epsilon_abs, 'epslion_rel is ', epslion_rel, 'tolerance is', tol)\n",
    "    ################################################################################################\n",
    "    \n",
    "    TPRvec = []\n",
    "    FPRvec = []\n",
    "   \n",
    "    for p in range(len(lamb)):\n",
    "        \n",
    "        print('lambda is',lamb[p])\n",
    "#         print()\n",
    "        optimal_theta, optimal_Z, optimal_U, R_k, S_k, epsilon_pri, epsilon_dual = ADMM(theta, Z, U, A, K, lamb[p], W, number_of_sample, m, dim, epsilon_abs, epslion_rel)\n",
    "        \n",
    "        Ematrix = createEmatrix(optimal_theta, m, dim, tol)\n",
    "      \n",
    "        trueEmatrix = genEdgeMatrix(file_name2, 32)\n",
    "    \n",
    "        e1 = []\n",
    "        e2 = []\n",
    "        e3 = []\n",
    "        e4 = []\n",
    "        e5 = []\n",
    "        e6 = []\n",
    "\n",
    "        error1, error2, error3, error4, error5, error6 = computeErrors(trueEmatrix, Ematrix, optimal_theta, A, e1,e2,e3,e4,e5,e6)\n",
    "        pl.spy(Ematrix)\n",
    "        pl.show()\n",
    "        print('---------------------- Iteration is over --------------------------')\n",
    "        TPRvec.append(error5)\n",
    "        FPRvec.append(error6) \n",
    "    \n",
    "    print()\n",
    "    print('TPRvec is', TPRvec)\n",
    "    print()\n",
    "    print('FPRvec is', FPRvec)\n",
    "    print()\n",
    "    \n",
    "    sumTPR = sumTPR + np.matrix(TPRvec)\n",
    "    sumFPR = sumFPR + np.matrix(FPRvec)\n",
    "    \n",
    "\n",
    "print(sumTPR)\n",
    "print(sumFPR)\n",
    "sumTPR  = sumTPR/max_iter\n",
    "sumFPR = sumFPR/max_iter\n",
    "\n",
    "np.savetxt('TPR2.csv', sumTPR, delimiter=',')\n",
    "np.savetxt('FPR2.csv', sumFPR, delimiter=',')\n"
   ]
  },
  {
   "cell_type": "code",
   "execution_count": 58,
   "metadata": {
    "collapsed": false
   },
   "outputs": [
    {
     "name": "stdout",
     "output_type": "stream",
     "text": [
      "('D = ', 544, 'T = ', 246, 'TandD = ', 138.0, 'TPR = ', 0.5609756097560976, 'FPR = ', 0.5218508997429306, 'K = ', 544, 'P = ', 0.2536764705882353, 'R = ', 0.5609756097560976, 'Score = ', 0.3493670886075949, 'AIC = ', 549.94189763273039)\n",
      "('D = ', 802, 'T = ', 246, 'TandD = ', 204.0, 'TPR = ', 0.8292682926829268, 'FPR = ', 0.7686375321336761, 'K = ', 802, 'P = ', 0.2543640897755611, 'R = ', 0.8292682926829268, 'Score = ', 0.3893129770992366, 'AIC = ', 807.94189763273039)\n",
      "('D = ', 948, 'T = ', 246, 'TandD = ', 232.0, 'TPR = ', 0.943089430894309, 'FPR = ', 0.9203084832904884, 'K = ', 948, 'P = ', 0.24472573839662448, 'R = ', 0.943089430894309, 'Score = ', 0.3886097152428811, 'AIC = ', 953.94189763273039)\n",
      "('D = ', 996, 'T = ', 246, 'TandD = ', 242.0, 'TPR = ', 0.983739837398374, 'FPR = ', 0.9691516709511568, 'K = ', 996, 'P = ', 0.2429718875502008, 'R = ', 0.983739837398374, 'Score = ', 0.38969404186795487, 'AIC = ', 1001.9418976327304)\n",
      "('D = ', 1018, 'T = ', 246, 'TandD = ', 246.0, 'TPR = ', 1.0, 'FPR = ', 0.9922879177377892, 'K = ', 1018, 'P = ', 0.24165029469548133, 'R = ', 1.0, 'Score = ', 0.38924050632911394, 'AIC = ', 1023.9418976327304)\n"
     ]
    }
   ],
   "source": [
    "for tol in np.logspace(-2,-4,5):\n",
    "    Ematrix = createEmatrix(optimal_theta, m, dim, tol)\n",
    "    error1, error2, error3, error4, error5, error6 = computeErrors(trueEmatrix, Ematrix, optimal_theta, A, e1,e2,e3,e4,e5,e6)\n",
    "        "
   ]
  },
  {
   "cell_type": "code",
   "execution_count": 173,
   "metadata": {
    "collapsed": false
   },
   "outputs": [
    {
     "name": "stdout",
     "output_type": "stream",
     "text": [
      "('True Positive ERROR is : ', matrix([[ 1.   ],\n",
      "        [ 1.   ],\n",
      "        [ 0.952],\n",
      "        [ 0.929],\n",
      "        [ 0.833]]))\n",
      "('False Positive ERROR is : ', matrix([[ 0.94 ],\n",
      "        [ 0.94 ],\n",
      "        [ 0.926],\n",
      "        [ 0.679],\n",
      "        [ 0.681]]))\n",
      "[[0.9404255319148936], [0.9404255319148936], [0.925531914893617], [0.6787234042553192], [0.6808510638297872]]\n",
      "[[1.0], [1.0], [0.9523809523809523], [0.9285714285714286], [0.8333333333333334]]\n"
     ]
    },
    {
     "data": {
      "image/png": "[encoded data removed]",
      "text/plain": [
       "<matplotlib.figure.Figure at 0x110016850>"
      ]
     },
     "metadata": {},
     "output_type": "display_data"
    }
   ],
   "source": [
    "print('True Positive ERROR is : ', sumTPR)\n",
    "print('False Positive ERROR is : ', sumFPR)\n",
    "print(FPRvec)\n",
    "print(TPRvec)\n",
    "import matplotlib as mpl\n",
    "#mpl.use('Agg')\n",
    "import matplotlib.pyplot as pl\n",
    "# import numpy as np\n",
    "\n",
    "TPRData = np.genfromtxt('TPR2.csv', delimiter=\",\")\n",
    "FPRData = np.genfromtxt('FPR2.csv', delimiter=\",\")\n",
    "\n",
    "# print(FPRData, TPRData)\n",
    "pl.figure(figsize=(6,6))\n",
    "pl.plot(FPRData, TPRData, 'o-')\n",
    "pl.plot([0,1],[0,1],'--')\n",
    "\n",
    "pl.show()"
   ]
  },
  {
   "cell_type": "code",
   "execution_count": 17,
   "metadata": {
    "collapsed": false
   },
   "outputs": [
    {
     "data": {
      "image/png": "[encoded data removed]",
      "text/plain": [
       "<matplotlib.figure.Figure at 0x10aa3a410>"
      ]
     },
     "metadata": {},
     "output_type": "display_data"
    }
   ],
   "source": []
  },
  {
   "cell_type": "code",
   "execution_count": 95,
   "metadata": {
    "collapsed": false
   },
   "outputs": [
    {
     "data": {
      "image/png": "[encoded data removed]",
      "text/plain": [
       "<matplotlib.figure.Figure at 0x10ad31450>"
      ]
     },
     "metadata": {},
     "output_type": "display_data"
    }
   ],
   "source": [
    "pl.spy(Ematrix)\n",
    "pl.show()"
   ]
  },
  {
   "cell_type": "code",
   "execution_count": 171,
   "metadata": {
    "collapsed": false
   },
   "outputs": [
    {
     "name": "stdout",
     "output_type": "stream",
     "text": [
      "('+++++++++++++++++++++++++++', 'Test For ', 'test2_sufficient_statistics.csv', '+++++++++++++++++++++++++++')\n",
      "(4990, 8) (4990, 8) (4990, 16) (4990, 24)\n",
      "(57, 57)\n",
      "[[ 1.366  0.154  0.207 ...,  0.202  0.206  0.203]\n",
      " [ 0.154  1.4    0.227 ...,  0.22   0.224  0.22 ]\n",
      " [ 0.207  0.227  1.578 ...,  0.315  0.32   0.316]\n",
      " ..., \n",
      " [ 0.202  0.22   0.315 ...,  0.35   0.344  0.342]\n",
      " [ 0.206  0.224  0.32  ...,  0.344  0.362  0.347]\n",
      " [ 0.203  0.22   0.316 ...,  0.342  0.347  0.355]]\n"
     ]
    },
    {
     "data": {
      "image/png": "[encoded data removed]",
      "text/plain": [
       "<matplotlib.figure.Figure at 0x10f46df10>"
      ]
     },
     "metadata": {},
     "output_type": "display_data"
    },
    {
     "data": {
      "image/png": "[encoded data removed]",
      "text/plain": [
       "<matplotlib.figure.Figure at 0x110d22f50>"
      ]
     },
     "metadata": {},
     "output_type": "display_data"
    }
   ],
   "source": [
    "file_name = 'test2_sufficient_statistics.csv'\n",
    "file_name2 = 'test2_edges.csv'\n",
    "print('+++++++++++++++++++++++++++', 'Test For ', file_name, '+++++++++++++++++++++++++++')\n",
    "\n",
    "#     print('TEST for :')\n",
    "#     print(file_name)\n",
    "#     print(file_name2)\n",
    "#     print()\n",
    "\n",
    "#########################################################################################################\n",
    "# number of Bernoulli sample, Bernoulli T(x) dimension\n",
    "# number of Gamma sample, Gamma T(x) dimension\n",
    "# number of Gaussian sample, Gaussian T(x) dimension\n",
    "# number of Dirichlet sample, Dirichlet T(x) dimension\n",
    "# respectively\n",
    "\n",
    "# n_r[0], m_t[0], n_t[1], m_r[1], n_r[2], m_t[2], n_r[3], m_t[3]\n",
    "data = np.genfromtxt(file_name, delimiter=\",\")\n",
    "m1 = 8\n",
    "m2 = 8\n",
    "m3 = 8\n",
    "m4 = 8\n",
    "\n",
    "dim1 = 1\n",
    "dim2 = 1\n",
    "dim3 = 2\n",
    "dim4 = 3\n",
    "\n",
    "m = np.array([1, m1, m2, m3, m4])\n",
    "dim = np.array([1, dim1, dim2, dim3, dim4])\n",
    "#########################################################################################################\n",
    "\n",
    "#     balance = np.sqrt(dim)\n",
    "# balance = [1, 1, 2, 3, 5]\n",
    "balance = ([1, 1, 1, 3, 4 ])\n",
    "\n",
    "M = Mmatrix(data, m, dim, balance)\n",
    "print M.shape\n",
    "D = Dmatrix(m, dim) \n",
    "A = M+D\n",
    "A = np.matrix(A) #+ np.identity(57)\n",
    "A = (A + np.transpose(A))/2\n",
    "\n",
    "\n",
    "def EdgeNormMatrix(theta, m_vec, dim_vec, tolerance):\n",
    "    #m_vec = np.array([1, 8, 8, 8, 8]) # 1 for dummy variable\n",
    "    #dim_vec = np.array([1, 1, 1, 2, 3]) # 1 for dummy variable, \n",
    "    \n",
    "    m = m_vec\n",
    "    dim = dim_vec\n",
    "    \n",
    "    dist_num = np.sum(m)-1\n",
    "    E = np.zeros([dist_num+1,dist_num+1])\n",
    "#     dist_num = 32;\n",
    "#     B = [ [] for i in range(dist_num+1)] # [  [], [], [], ... [] ]\n",
    "    \n",
    "    \n",
    "    temp_vec = []\n",
    "    for i in range(dist_num+1): # iterate from 0 to 32\n",
    "        for j in range(dist_num+1):\n",
    "#             B[i].append(Block_Extract(theta, i, j, m, dim)) # Helper function called \"Block_Extract\"\n",
    "            temp = la.norm(Block_Extract(theta, i, j, m, dim), 'fro')\n",
    "#             temp_vec.append(temp)\n",
    "            if temp >= tolerance: ###### tolerance!!! #### TEST FOR CHANGE ####\n",
    "                E[i,j] = temp\n",
    "            else:\n",
    "                E[i,j] = 0\n",
    "\n",
    "    return E[1:,1:]\n",
    "\n",
    "EE_theta = EdgeNormMatrix(optimal_theta, m, dim, tol)\n",
    "EE = EdgeNormMatrix((A), m, dim, tol)\n",
    "\n",
    "# EE = EdgeNormMatrix(la.inv(A), m, dim, tol)\n",
    "print EE\n",
    "\n",
    "\n",
    "pl.imshow(EE,interpolation='none',cmap='binary')\n",
    "pl.colorbar()\n",
    "\n",
    "pl.show()\n",
    "pl.imshow(EE_theta,interpolation='none',cmap='binary')\n",
    "pl.colorbar()\n",
    "pl.show()"
   ]
  },
  {
   "cell_type": "code",
   "execution_count": 162,
   "metadata": {
    "collapsed": false
   },
   "outputs": [
    {
     "ename": "NameError",
     "evalue": "name 'ber_data' is not defined",
     "output_type": "error",
     "traceback": [
      "\u001b[0;31m---------------------------------------------------------------------------\u001b[0m",
      "\u001b[0;31mNameError\u001b[0m                                 Traceback (most recent call last)",
      "\u001b[0;32m<ipython-input-162-0b10edda6b8c>\u001b[0m in \u001b[0;36m<module>\u001b[0;34m()\u001b[0m\n\u001b[0;32m----> 1\u001b[0;31m \u001b[0;32mprint\u001b[0m \u001b[0mber_data\u001b[0m\u001b[0;34m\u001b[0m\u001b[0m\n\u001b[0m",
      "\u001b[0;31mNameError\u001b[0m: name 'ber_data' is not defined"
     ]
    }
   ],
   "source": [
    "print ber_data"
   ]
  },
  {
   "cell_type": "code",
   "execution_count": null,
   "metadata": {
    "collapsed": true
   },
   "outputs": [],
   "source": []
  }
 ],
 "metadata": {
  "anaconda-cloud": {},
  "kernelspec": {
   "display_name": "Python [conda root]",
   "language": "python",
   "name": "conda-root-py"
  },
  "language_info": {
   "codemirror_mode": {
    "name": "ipython",
    "version": 2
   },
   "file_extension": ".py",
   "mimetype": "text/x-python",
   "name": "python",
   "nbconvert_exporter": "python",
   "pygments_lexer": "ipython2",
   "version": "2.7.12"
  }
 },
 "nbformat": 4,
 "nbformat_minor": 0
}
